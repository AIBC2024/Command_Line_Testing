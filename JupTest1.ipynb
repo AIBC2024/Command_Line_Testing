{
 "cells": [
  {
   "cell_type": "code",
   "execution_count": 1,
   "id": "2b83831c-c06d-4867-bc18-978c43e229d4",
   "metadata": {},
   "outputs": [],
   "source": [
    "# I want to learn how to use Jupyter Notebook\n",
    "a = 5"
   ]
  },
  {
   "cell_type": "code",
   "execution_count": null,
   "id": "4552fe30-9bf9-493a-aebc-e3fea53d5434",
   "metadata": {
    "collapsed": true,
    "jupyter": {
     "outputs_hidden": true
    }
   },
   "outputs": [],
   "source": [
    "print (\"Hello World\")"
   ]
  },
  {
   "cell_type": "code",
   "execution_count": null,
   "id": "2ab6100a-dfec-4d2f-ab90-e6f24afafec5",
   "metadata": {},
   "outputs": [],
   "source": [
    "print (2+3)"
   ]
  },
  {
   "cell_type": "code",
   "execution_count": null,
   "id": "de59f9bf-3cf6-4237-9afd-1baee7f9d7ab",
   "metadata": {},
   "outputs": [],
   "source": [
    "# Another test on python"
   ]
  },
  {
   "cell_type": "code",
   "execution_count": null,
   "id": "0db727b0-12b0-4b59-9856-b534c2b96132",
   "metadata": {},
   "outputs": [],
   "source": [
    "print (\"Hello World\", str(2+3))"
   ]
  },
  {
   "cell_type": "code",
   "execution_count": 3,
   "id": "cd88ecef-39e2-4bfe-b11b-7efde7826b92",
   "metadata": {},
   "outputs": [
    {
     "name": "stdout",
     "output_type": "stream",
     "text": [
      "5\n"
     ]
    }
   ],
   "source": [
    "print (a)"
   ]
  }
 ],
 "metadata": {
  "kernelspec": {
   "display_name": "dev",
   "language": "python",
   "name": "dev"
  },
  "language_info": {
   "codemirror_mode": {
    "name": "ipython",
    "version": 3
   },
   "file_extension": ".py",
   "mimetype": "text/x-python",
   "name": "python",
   "nbconvert_exporter": "python",
   "pygments_lexer": "ipython3",
   "version": "3.12.7"
  }
 },
 "nbformat": 4,
 "nbformat_minor": 5
}
