{
 "cells": [
  {
   "cell_type": "code",
   "execution_count": 2,
   "id": "e9976605-96f9-42d9-be7c-ac09c631cf06",
   "metadata": {},
   "outputs": [],
   "source": [
    "#HEADING 1"
   ]
  },
  {
   "cell_type": "code",
   "execution_count": 4,
   "id": "ef382b1c-b0d9-4f1f-b49c-1e080767a623",
   "metadata": {},
   "outputs": [],
   "source": [
    "##HEADING 2"
   ]
  },
  {
   "cell_type": "code",
   "execution_count": null,
   "id": "832eb2c8-5ffc-40f9-9180-55292a2e3df3",
   "metadata": {},
   "outputs": [],
   "source": [
    "###HEADING 3"
   ]
  }
 ],
 "metadata": {
  "kernelspec": {
   "display_name": "Python 3 (ipykernel)",
   "language": "python",
   "name": "python3"
  },
  "language_info": {
   "codemirror_mode": {
    "name": "ipython",
    "version": 3
   },
   "file_extension": ".py",
   "mimetype": "text/x-python",
   "name": "python",
   "nbconvert_exporter": "python",
   "pygments_lexer": "ipython3",
   "version": "3.12.7"
  }
 },
 "nbformat": 4,
 "nbformat_minor": 5
}
